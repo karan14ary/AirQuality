{
 "cells": [
  {
   "cell_type": "code",
   "execution_count": 4,
   "id": "0a29de93",
   "metadata": {},
   "outputs": [],
   "source": [
    "import pandas as pd        ## data handling \n",
    "import numpy as np      ## numerical python   ## handlng array\n",
    "import matplotlib.pyplot as plt     ## plotting graphs to analysis the data\n",
    "import seaborn as sns      ## graphical \n",
    "\n",
    "\n",
    "from sklearn.model_selection import train_test_split        ## its used for train split the datasset\n",
    "from sklearn.linear_model import LogisticRegression  ##algorithm will get from scikit_learn\n",
    "\n",
    "from sklearn import metrics        ## to check the    confusion_matrix,classification_report\n",
    "from sklearn.metrics import confusion_matrix,classification_report   ## same\n",
    "\n",
    "from sklearn.tree import DecisionTreeClassifier      ##decision tree classifier from scikit _learn\n",
    "from sklearn.ensemble import RandomForestClassifier  ####random forest  classifier from scikit _learn\n",
    "from sklearn import tree\n",
    "# from warnings import filterwarnings\n",
    "# filterwarnings(\"ignore\")"
   ]
  },
  {
   "cell_type": "markdown",
   "id": "ae148c0e",
   "metadata": {},
   "source": [
    "##  Analysing Dataset\n"
   ]
  },
  {
   "cell_type": "code",
   "execution_count": 5,
   "id": "13797574",
   "metadata": {},
   "outputs": [
    {
     "data": {
      "text/html": [
       "<div>\n",
       "<style scoped>\n",
       "    .dataframe tbody tr th:only-of-type {\n",
       "        vertical-align: middle;\n",
       "    }\n",
       "\n",
       "    .dataframe tbody tr th {\n",
       "        vertical-align: top;\n",
       "    }\n",
       "\n",
       "    .dataframe thead th {\n",
       "        text-align: right;\n",
       "    }\n",
       "</style>\n",
       "<table border=\"1\" class=\"dataframe\">\n",
       "  <thead>\n",
       "    <tr style=\"text-align: right;\">\n",
       "      <th></th>\n",
       "      <th>bp</th>\n",
       "      <th>oxy</th>\n",
       "      <th>hb</th>\n",
       "      <th>ecg</th>\n",
       "      <th>temp</th>\n",
       "      <th>target</th>\n",
       "    </tr>\n",
       "  </thead>\n",
       "  <tbody>\n",
       "    <tr>\n",
       "      <th>0</th>\n",
       "      <td>125</td>\n",
       "      <td>96</td>\n",
       "      <td>58</td>\n",
       "      <td>202</td>\n",
       "      <td>98</td>\n",
       "      <td>1</td>\n",
       "    </tr>\n",
       "    <tr>\n",
       "      <th>1</th>\n",
       "      <td>124</td>\n",
       "      <td>98</td>\n",
       "      <td>62</td>\n",
       "      <td>218</td>\n",
       "      <td>98</td>\n",
       "      <td>1</td>\n",
       "    </tr>\n",
       "    <tr>\n",
       "      <th>2</th>\n",
       "      <td>120</td>\n",
       "      <td>94</td>\n",
       "      <td>60</td>\n",
       "      <td>345</td>\n",
       "      <td>97</td>\n",
       "      <td>1</td>\n",
       "    </tr>\n",
       "    <tr>\n",
       "      <th>3</th>\n",
       "      <td>125</td>\n",
       "      <td>96</td>\n",
       "      <td>56</td>\n",
       "      <td>309</td>\n",
       "      <td>96</td>\n",
       "      <td>1</td>\n",
       "    </tr>\n",
       "    <tr>\n",
       "      <th>4</th>\n",
       "      <td>125</td>\n",
       "      <td>96</td>\n",
       "      <td>56</td>\n",
       "      <td>267</td>\n",
       "      <td>96</td>\n",
       "      <td>1</td>\n",
       "    </tr>\n",
       "  </tbody>\n",
       "</table>\n",
       "</div>"
      ],
      "text/plain": [
       "    bp  oxy  hb  ecg  temp  target\n",
       "0  125   96  58  202    98       1\n",
       "1  124   98  62  218    98       1\n",
       "2  120   94  60  345    97       1\n",
       "3  125   96  56  309    96       1\n",
       "4  125   96  56  267    96       1"
      ]
     },
     "execution_count": 5,
     "metadata": {},
     "output_type": "execute_result"
    }
   ],
   "source": [
    "df = pd.read_csv('data.csv',sep=',',encoding=\"utf-8\")    ## comma seperated value   \n",
    "df.head()     ##  head means top five data will visible"
   ]
  },
  {
   "cell_type": "code",
   "execution_count": 6,
   "id": "b9b2a8d5",
   "metadata": {},
   "outputs": [
    {
     "data": {
      "text/html": [
       "<div>\n",
       "<style scoped>\n",
       "    .dataframe tbody tr th:only-of-type {\n",
       "        vertical-align: middle;\n",
       "    }\n",
       "\n",
       "    .dataframe tbody tr th {\n",
       "        vertical-align: top;\n",
       "    }\n",
       "\n",
       "    .dataframe thead th {\n",
       "        text-align: right;\n",
       "    }\n",
       "</style>\n",
       "<table border=\"1\" class=\"dataframe\">\n",
       "  <thead>\n",
       "    <tr style=\"text-align: right;\">\n",
       "      <th></th>\n",
       "      <th>bp</th>\n",
       "      <th>oxy</th>\n",
       "      <th>hb</th>\n",
       "      <th>ecg</th>\n",
       "      <th>temp</th>\n",
       "      <th>target</th>\n",
       "    </tr>\n",
       "  </thead>\n",
       "  <tbody>\n",
       "    <tr>\n",
       "      <th>4995</th>\n",
       "      <td>172</td>\n",
       "      <td>71</td>\n",
       "      <td>87</td>\n",
       "      <td>847</td>\n",
       "      <td>107</td>\n",
       "      <td>4</td>\n",
       "    </tr>\n",
       "    <tr>\n",
       "      <th>4996</th>\n",
       "      <td>170</td>\n",
       "      <td>65</td>\n",
       "      <td>81</td>\n",
       "      <td>924</td>\n",
       "      <td>107</td>\n",
       "      <td>4</td>\n",
       "    </tr>\n",
       "    <tr>\n",
       "      <th>4997</th>\n",
       "      <td>176</td>\n",
       "      <td>74</td>\n",
       "      <td>86</td>\n",
       "      <td>802</td>\n",
       "      <td>109</td>\n",
       "      <td>4</td>\n",
       "    </tr>\n",
       "    <tr>\n",
       "      <th>4998</th>\n",
       "      <td>172</td>\n",
       "      <td>64</td>\n",
       "      <td>92</td>\n",
       "      <td>934</td>\n",
       "      <td>109</td>\n",
       "      <td>4</td>\n",
       "    </tr>\n",
       "    <tr>\n",
       "      <th>4999</th>\n",
       "      <td>177</td>\n",
       "      <td>63</td>\n",
       "      <td>90</td>\n",
       "      <td>834</td>\n",
       "      <td>107</td>\n",
       "      <td>4</td>\n",
       "    </tr>\n",
       "  </tbody>\n",
       "</table>\n",
       "</div>"
      ],
      "text/plain": [
       "       bp  oxy  hb  ecg  temp  target\n",
       "4995  172   71  87  847   107       4\n",
       "4996  170   65  81  924   107       4\n",
       "4997  176   74  86  802   109       4\n",
       "4998  172   64  92  934   109       4\n",
       "4999  177   63  90  834   107       4"
      ]
     },
     "execution_count": 6,
     "metadata": {},
     "output_type": "execute_result"
    }
   ],
   "source": [
    "df.tail()  "
   ]
  },
  {
   "cell_type": "code",
   "execution_count": 7,
   "id": "bbdaeb23",
   "metadata": {},
   "outputs": [
    {
     "name": "stdout",
     "output_type": "stream",
     "text": [
      "<class 'pandas.core.frame.DataFrame'>\n",
      "RangeIndex: 5000 entries, 0 to 4999\n",
      "Data columns (total 6 columns):\n",
      " #   Column  Non-Null Count  Dtype\n",
      "---  ------  --------------  -----\n",
      " 0   bp      5000 non-null   int64\n",
      " 1   oxy     5000 non-null   int64\n",
      " 2   hb      5000 non-null   int64\n",
      " 3   ecg     5000 non-null   int64\n",
      " 4   temp    5000 non-null   int64\n",
      " 5   target  5000 non-null   int64\n",
      "dtypes: int64(6)\n",
      "memory usage: 234.5 KB\n"
     ]
    }
   ],
   "source": [
    "df.info()   ## information of dataframe    datatypes"
   ]
  },
  {
   "cell_type": "code",
   "execution_count": 8,
   "id": "51982647",
   "metadata": {},
   "outputs": [
    {
     "data": {
      "text/html": [
       "<div>\n",
       "<style scoped>\n",
       "    .dataframe tbody tr th:only-of-type {\n",
       "        vertical-align: middle;\n",
       "    }\n",
       "\n",
       "    .dataframe tbody tr th {\n",
       "        vertical-align: top;\n",
       "    }\n",
       "\n",
       "    .dataframe thead th {\n",
       "        text-align: right;\n",
       "    }\n",
       "</style>\n",
       "<table border=\"1\" class=\"dataframe\">\n",
       "  <thead>\n",
       "    <tr style=\"text-align: right;\">\n",
       "      <th></th>\n",
       "      <th>bp</th>\n",
       "      <th>oxy</th>\n",
       "      <th>hb</th>\n",
       "      <th>ecg</th>\n",
       "      <th>temp</th>\n",
       "      <th>target</th>\n",
       "    </tr>\n",
       "  </thead>\n",
       "  <tbody>\n",
       "    <tr>\n",
       "      <th>0</th>\n",
       "      <td>125</td>\n",
       "      <td>96</td>\n",
       "      <td>58</td>\n",
       "      <td>202</td>\n",
       "      <td>98</td>\n",
       "      <td>1</td>\n",
       "    </tr>\n",
       "    <tr>\n",
       "      <th>1</th>\n",
       "      <td>124</td>\n",
       "      <td>98</td>\n",
       "      <td>62</td>\n",
       "      <td>218</td>\n",
       "      <td>98</td>\n",
       "      <td>1</td>\n",
       "    </tr>\n",
       "    <tr>\n",
       "      <th>2</th>\n",
       "      <td>120</td>\n",
       "      <td>94</td>\n",
       "      <td>60</td>\n",
       "      <td>345</td>\n",
       "      <td>97</td>\n",
       "      <td>1</td>\n",
       "    </tr>\n",
       "    <tr>\n",
       "      <th>3</th>\n",
       "      <td>125</td>\n",
       "      <td>96</td>\n",
       "      <td>56</td>\n",
       "      <td>309</td>\n",
       "      <td>96</td>\n",
       "      <td>1</td>\n",
       "    </tr>\n",
       "    <tr>\n",
       "      <th>4</th>\n",
       "      <td>125</td>\n",
       "      <td>96</td>\n",
       "      <td>56</td>\n",
       "      <td>267</td>\n",
       "      <td>96</td>\n",
       "      <td>1</td>\n",
       "    </tr>\n",
       "    <tr>\n",
       "      <th>...</th>\n",
       "      <td>...</td>\n",
       "      <td>...</td>\n",
       "      <td>...</td>\n",
       "      <td>...</td>\n",
       "      <td>...</td>\n",
       "      <td>...</td>\n",
       "    </tr>\n",
       "    <tr>\n",
       "      <th>4995</th>\n",
       "      <td>172</td>\n",
       "      <td>71</td>\n",
       "      <td>87</td>\n",
       "      <td>847</td>\n",
       "      <td>107</td>\n",
       "      <td>4</td>\n",
       "    </tr>\n",
       "    <tr>\n",
       "      <th>4996</th>\n",
       "      <td>170</td>\n",
       "      <td>65</td>\n",
       "      <td>81</td>\n",
       "      <td>924</td>\n",
       "      <td>107</td>\n",
       "      <td>4</td>\n",
       "    </tr>\n",
       "    <tr>\n",
       "      <th>4997</th>\n",
       "      <td>176</td>\n",
       "      <td>74</td>\n",
       "      <td>86</td>\n",
       "      <td>802</td>\n",
       "      <td>109</td>\n",
       "      <td>4</td>\n",
       "    </tr>\n",
       "    <tr>\n",
       "      <th>4998</th>\n",
       "      <td>172</td>\n",
       "      <td>64</td>\n",
       "      <td>92</td>\n",
       "      <td>934</td>\n",
       "      <td>109</td>\n",
       "      <td>4</td>\n",
       "    </tr>\n",
       "    <tr>\n",
       "      <th>4999</th>\n",
       "      <td>177</td>\n",
       "      <td>63</td>\n",
       "      <td>90</td>\n",
       "      <td>834</td>\n",
       "      <td>107</td>\n",
       "      <td>4</td>\n",
       "    </tr>\n",
       "  </tbody>\n",
       "</table>\n",
       "<p>5000 rows × 6 columns</p>\n",
       "</div>"
      ],
      "text/plain": [
       "       bp  oxy  hb  ecg  temp  target\n",
       "0     125   96  58  202    98       1\n",
       "1     124   98  62  218    98       1\n",
       "2     120   94  60  345    97       1\n",
       "3     125   96  56  309    96       1\n",
       "4     125   96  56  267    96       1\n",
       "...   ...  ...  ..  ...   ...     ...\n",
       "4995  172   71  87  847   107       4\n",
       "4996  170   65  81  924   107       4\n",
       "4997  176   74  86  802   109       4\n",
       "4998  172   64  92  934   109       4\n",
       "4999  177   63  90  834   107       4\n",
       "\n",
       "[5000 rows x 6 columns]"
      ]
     },
     "execution_count": 8,
     "metadata": {},
     "output_type": "execute_result"
    }
   ],
   "source": [
    "df   ## print top and bottom five"
   ]
  },
  {
   "cell_type": "code",
   "execution_count": 9,
   "id": "2f10e818",
   "metadata": {},
   "outputs": [
    {
     "data": {
      "text/plain": [
       "(5000, 6)"
      ]
     },
     "execution_count": 9,
     "metadata": {},
     "output_type": "execute_result"
    }
   ],
   "source": [
    "df.shape   ## findind shape of dataset"
   ]
  },
  {
   "cell_type": "code",
   "execution_count": 10,
   "id": "d0d6be47",
   "metadata": {},
   "outputs": [
    {
     "data": {
      "text/plain": [
       "bp        0\n",
       "oxy       0\n",
       "hb        0\n",
       "ecg       0\n",
       "temp      0\n",
       "target    0\n",
       "dtype: int64"
      ]
     },
     "execution_count": 10,
     "metadata": {},
     "output_type": "execute_result"
    }
   ],
   "source": [
    "df.isna().sum()     ## is null or not if null it will sum   count null"
   ]
  },
  {
   "cell_type": "code",
   "execution_count": 11,
   "id": "3b9b6c6f",
   "metadata": {},
   "outputs": [
    {
     "data": {
      "text/plain": [
       "bp         61\n",
       "oxy        46\n",
       "hb         47\n",
       "ecg       782\n",
       "temp       22\n",
       "target      4\n",
       "dtype: int64"
      ]
     },
     "execution_count": 11,
     "metadata": {},
     "output_type": "execute_result"
    }
   ],
   "source": [
    "df.apply(lambda x:len(x.unique()))       ## check the unique value in the attributes    \n"
   ]
  },
  {
   "cell_type": "code",
   "execution_count": 12,
   "id": "d1f4dfae",
   "metadata": {},
   "outputs": [
    {
     "name": "stdout",
     "output_type": "stream",
     "text": [
      "bp  [125 124 120 128 130 129 126 123 127 121 122  98  87  91  82  53  72  67\n",
      "  63  49 137 135 136 132 134 138 139 131 133 140 149 141 160 145 142 150\n",
      " 159 143 153 144 156 154 146 155 152 158 148 147 151 157 170 171 180 172\n",
      " 174 173 177 178 179 175 176]\n",
      "oxy  [ 96  98  94  97  95  59  52  50  51  41  60  93  91  92  90  86  84  88\n",
      "  82  83  80  89  85  81  87  99 104  75  61  67  65  74  63  69  78  72\n",
      "  68  64  66  71  62  77  70  76  79  73]\n",
      "hb  [ 58  62  60  56  61  59  57  63  64  68  71  70  74  69  73  72  67  65\n",
      "  66  52  50  42  76  78  81  80  79  77  75  86  94  87  93  89  82  90\n",
      "  83  85  92  91  95  88  84 107 148 110 141]\n",
      "ecg  [ 202  218  345  309  267  253  344  308  379  250  280  347  328  256\n",
      "  297  283  216  237  212  301  228  333  263  324  321  284  257  390\n",
      "  278  383  323  293  350  213  235  206  258  356  292  231  331  299\n",
      "  239  289  367  244  315  304  326  240  306  248  251  389  327  338\n",
      "  233  208  285  265  336  291  330  210  201  203  220  346  377  316\n",
      "  357  387  359  351  353  255  361  365  217  230  205  268  241  370\n",
      "  200  376  313  352  226  380  271  381  355  366  262  275  286  322\n",
      "  302  261  290  295  276  274  320  209  215  232  224  342  349  227\n",
      "  287  245  312  332  300  288  339  219  371  282  272  310  375  234\n",
      "  329  343  386  385  360  378  264  363  311  374  319  259  384  303\n",
      "  243  273  246  337  317  335  247  207  269  314  369  252  318  254\n",
      "  294  221  204  334  382  372  238  223  225  307  279  211  214  341\n",
      "  364  340  298  358  373  242  281  260  348  222  368  354  362  229\n",
      "  277  325  236  296  249  388  137  116  143  140  305  270  453  462\n",
      "  461  544  501  454  542  472  405  493  554  451  516  511  410  531\n",
      "  524  434  527  499  543  464  459  447  398  418  497  539  433  450\n",
      "  422  491  560  408  411  495  427  540  419  486  546  528  401  484\n",
      "  404  417  430  550  512  498  561  456  414  521  437  506  446  466\n",
      "  431  503  432  558  460  547  515  468  403  458  562  480  428  551\n",
      "  407  470  423  452  526  541  537  525  532  548  553  424  518  409\n",
      "  465  471  457  421  397  467  481  449  441  479  429  478  509  529\n",
      "  448  564  568  549  565  563  395  555  514  500  416  440  502  535\n",
      "  490  533  425  487  439  455  534  522  556  435  508  557  463  443\n",
      "  415  474  477  420  536  444  545  567  406  483  402  520  485  482\n",
      "  476  438  412  399  513  504  496  552  436  510  538  570  566  507\n",
      "  473  569  488  396  494  426  492  400  445  469  442  475  519  530\n",
      "  517  559  505  413  489  523  631  603  752  622  751  755  675  748\n",
      "  690  615  698  617  732  642  640  597  718  626  647  674  729  765\n",
      "  734  635  723  766  747  608  785  660  768  676  644  775  772  754\n",
      "  695  757  598  616  781  694  707  779  784  712  663  685  666  735\n",
      "  682  623  618  605  630  662  607  782  680  669  610  658  668  634\n",
      "  706  720  600  750  641  726  673  776  716  738  789  672  721  693\n",
      "  744  614  717  590  771  645  793  627  741  688  687  646  686  790\n",
      "  657  601  788  650  664  606  628  684  764  709  602  609  749  636\n",
      "  708  794  653  643  777  661  728  737  733  649  679  753  730  710\n",
      "  791  719  756  792  591  767  604  736  697  689  637  740  699  722\n",
      "  769  659  639  593  612  696  625  667  725  632  714  655  742  759\n",
      "  770  743  613  739  724  624  692  671  787  665  629  678  745  727\n",
      "  677  651  704  773  638  691  619  596  670  683  700  760  702  595\n",
      "  746  763  633  620  713  611  701  780  648  599  621  703  711  654\n",
      "  589  681  758  774  592  778  652  731  783  762  715  705  594  656\n",
      "  786  761  846  959  916  867  809  941  965  797  883  909  860  848\n",
      "  938  801  927  922  940  985  822  976  798  981  994  825  832  935\n",
      "  885  869  953  918  991  870  895  824  952  836  845  866  843  808\n",
      "  901  834  893  896  837  850  997  961  962  996  974  814  853  861\n",
      "  917  971  851  998  990  894  973  830  898  820  897  958  878  964\n",
      "  821  960  823  854  946  829  831  966  800  863  902  989  849  827\n",
      "  928  945  982  942  977  913  868  835  947  950  911  933  880  884\n",
      "  855  949  926  904  796  905  970  908  912  890  995  889  842  856\n",
      "  988  968  915  819  969  852  956  957  993  876  882  873  807  841\n",
      "  818  847  857  934  865  805  891  903  815  943  984  888  930  881\n",
      "  875  954  931  887  951  799  874  879  986  899  806  838  871  924\n",
      "  980  804  914  932  979  963  925  833  892  828  955  872  859  812\n",
      "  948  923  972  864  921  877  840  937  803  900  810  992  978  939\n",
      "  983  920  844  929  839  975  858  910  811  816  944  862  826  907\n",
      "  936  906  967  802  987  813  886 1133 1063 1045 1085  817]\n",
      "temp  [ 98  97  96 100  99 178 193 123 122 168 104 101 103 102  87 108 107 105\n",
      " 106 110 109  59]\n",
      "target  [1 2 3 4]\n"
     ]
    }
   ],
   "source": [
    "print('bp ',df['bp'].unique())\n",
    "print('oxy ',df['oxy'].unique())\n",
    "print('hb ',df['hb'].unique())\n",
    "print('ecg ',df['ecg'].unique())\n",
    "print('temp ',df['temp'].unique())\n",
    "print('target ',df['target'].unique())\n"
   ]
  },
  {
   "cell_type": "code",
   "execution_count": 13,
   "id": "a9298c30",
   "metadata": {},
   "outputs": [
    {
     "data": {
      "text/plain": [
       "(array([   4., 1115., 1249., 1752.,  794.,   81.,    3.,    0.,    0.,\n",
       "           2.]),\n",
       " array([ 42. ,  52.6,  63.2,  73.8,  84.4,  95. , 105.6, 116.2, 126.8,\n",
       "        137.4, 148. ]),\n",
       " <BarContainer object of 10 artists>)"
      ]
     },
     "execution_count": 13,
     "metadata": {},
     "output_type": "execute_result"
    },
    {
     "data": {
      "image/png": "[encoded data removed]",
      "text/plain": [
       "<Figure size 432x288 with 1 Axes>"
      ]
     },
     "metadata": {
      "needs_background": "light"
     },
     "output_type": "display_data"
    }
   ],
   "source": [
    "plt.hist(df['hb'], bins=None, range=None, density=False)"
   ]
  },
  {
   "cell_type": "code",
   "execution_count": 14,
   "id": "193ae857",
   "metadata": {},
   "outputs": [
    {
     "data": {
      "text/plain": [
       "(array([1.000e+00, 3.000e+00, 1.000e+00, 4.420e+02, 3.650e+02, 3.420e+02,\n",
       "        7.910e+02, 1.039e+03, 1.756e+03, 2.600e+02]),\n",
       " array([ 41. ,  47.3,  53.6,  59.9,  66.2,  72.5,  78.8,  85.1,  91.4,\n",
       "         97.7, 104. ]),\n",
       " <BarContainer object of 10 artists>)"
      ]
     },
     "execution_count": 14,
     "metadata": {},
     "output_type": "execute_result"
    },
    {
     "data": {
      "image/png": "[encoded data removed]",
      "text/plain": [
       "<Figure size 432x288 with 1 Axes>"
      ]
     },
     "metadata": {
      "needs_background": "light"
     },
     "output_type": "display_data"
    }
   ],
   "source": [
    "plt.hist(df['oxy'], bins=None, range=None, density=False)"
   ]
  },
  {
   "cell_type": "code",
   "execution_count": 15,
   "id": "25c35485",
   "metadata": {},
   "outputs": [
    {
     "data": {
      "text/plain": [
       "Index(['bp', 'oxy', 'hb', 'ecg', 'temp', 'target'], dtype='object')"
      ]
     },
     "execution_count": 15,
     "metadata": {},
     "output_type": "execute_result"
    }
   ],
   "source": [
    "df.columns    ## column analysing"
   ]
  },
  {
   "cell_type": "code",
   "execution_count": 16,
   "id": "592c291e",
   "metadata": {},
   "outputs": [
    {
     "data": {
      "image/png": "[encoded data removed]",
      "text/plain": [
       "<Figure size 1440x720 with 1 Axes>"
      ]
     },
     "metadata": {
      "needs_background": "light"
     },
     "output_type": "display_data"
    }
   ],
   "source": [
    "plt.figure(figsize=(20,10))\n",
    "sns.countplot(x=df['temp'],data=df,hue='target',palette=\"twilight_shifted\",saturation=2,dodge=True,)\n",
    "\n",
    "plt.savefig(\"Target&temp.png\")"
   ]
  },
  {
   "cell_type": "code",
   "execution_count": 17,
   "id": "039974e6",
   "metadata": {},
   "outputs": [
    {
     "data": {
      "image/png": "[encoded data removed]",
      "text/plain": [
       "<Figure size 1440x1080 with 6 Axes>"
      ]
     },
     "metadata": {
      "needs_background": "light"
     },
     "output_type": "display_data"
    }
   ],
   "source": [
    "list = ['bp','oxy','hb','ecg','temp','target']\n",
    "m=1\n",
    "plt.figure(figsize=(20,15))\n",
    "for i in list:\n",
    "    plt.subplot(3,3,m)\n",
    "    sns.countplot(x=i,data=df,hue='target',palette=\"twilight_shifted\",\n",
    "    saturation=2,dodge=True)\n",
    "    m+=1\n",
    "    \n",
    "plt.savefig(\"TargetRelation.png\")"
   ]
  },
  {
   "cell_type": "code",
   "execution_count": 19,
   "id": "08b66796",
   "metadata": {},
   "outputs": [
    {
     "data": {
      "image/png": "[encoded data removed]",
      "text/plain": [
       "<Figure size 1080x360 with 2 Axes>"
      ]
     },
     "metadata": {
      "needs_background": "light"
     },
     "output_type": "display_data"
    }
   ],
   "source": [
    "plt.figure(figsize=(15,5))\n",
    "plt.subplot(1,2,1)\n",
    "sns.histplot(data=df,hue='target',x='temp',bins=20,element='poly')\n",
    "plt.subplot(1,2,2)\n",
    "sns.histplot(data=df,hue='target',x='ecg',bins=20,element='poly')\n",
    "plt.savefig(\"Thalach&oldpeak_Histplot.png\")"
   ]
  },
  {
   "cell_type": "code",
   "execution_count": 20,
   "id": "07ff326c",
   "metadata": {},
   "outputs": [
    {
     "data": {
      "image/png": "[encoded data removed]",
      "text/plain": [
       "<Figure size 1080x360 with 2 Axes>"
      ]
     },
     "metadata": {
      "needs_background": "light"
     },
     "output_type": "display_data"
    }
   ],
   "source": [
    "plt.figure(figsize=(15,5))\n",
    "plt.subplot(1,2,1)\n",
    "sns.histplot(data=df,hue='target',x='oxy',bins=20,element='poly')\n",
    "plt.subplot(1,2,2)\n",
    "sns.histplot(data=df,hue='target',x='bp',bins=20,element='poly')\n",
    "plt.savefig(\"Resting_blood_pressure&chol_Histplot.png\")"
   ]
  },
  {
   "cell_type": "code",
   "execution_count": null,
   "id": "288a03e0",
   "metadata": {},
   "outputs": [],
   "source": [
    "plt.figure(figsize=(10,10))\n",
    "sns.heatmap(df.corr(),cbar = True, annot =True,cmap='twilight_shifted_r');\n",
    "plt.savefig(\"heatmap.png\")"
   ]
  },
  {
   "cell_type": "code",
   "execution_count": 22,
   "id": "3501ddd2",
   "metadata": {},
   "outputs": [
    {
     "data": {
      "text/plain": [
       "Index(['bp', 'oxy', 'hb', 'ecg', 'temp', 'target'], dtype='object')"
      ]
     },
     "execution_count": 22,
     "metadata": {},
     "output_type": "execute_result"
    }
   ],
   "source": [
    "df.columns\n"
   ]
  },
  {
   "cell_type": "code",
   "execution_count": 23,
   "id": "937ef1ed",
   "metadata": {},
   "outputs": [
    {
     "name": "stdout",
     "output_type": "stream",
     "text": [
      "<class 'pandas.core.frame.DataFrame'>\n",
      "RangeIndex: 5000 entries, 0 to 4999\n",
      "Data columns (total 6 columns):\n",
      " #   Column  Non-Null Count  Dtype\n",
      "---  ------  --------------  -----\n",
      " 0   bp      5000 non-null   int64\n",
      " 1   oxy     5000 non-null   int64\n",
      " 2   hb      5000 non-null   int64\n",
      " 3   ecg     5000 non-null   int64\n",
      " 4   temp    5000 non-null   int64\n",
      " 5   target  5000 non-null   int64\n",
      "dtypes: int64(6)\n",
      "memory usage: 234.5 KB\n"
     ]
    }
   ],
   "source": [
    "df.info()"
   ]
  },
  {
   "cell_type": "code",
   "execution_count": 24,
   "id": "7389190a",
   "metadata": {},
   "outputs": [
    {
     "data": {
      "text/html": [
       "<div>\n",
       "<style scoped>\n",
       "    .dataframe tbody tr th:only-of-type {\n",
       "        vertical-align: middle;\n",
       "    }\n",
       "\n",
       "    .dataframe tbody tr th {\n",
       "        vertical-align: top;\n",
       "    }\n",
       "\n",
       "    .dataframe thead th {\n",
       "        text-align: right;\n",
       "    }\n",
       "</style>\n",
       "<table border=\"1\" class=\"dataframe\">\n",
       "  <thead>\n",
       "    <tr style=\"text-align: right;\">\n",
       "      <th></th>\n",
       "      <th>bp</th>\n",
       "      <th>oxy</th>\n",
       "      <th>hb</th>\n",
       "      <th>ecg</th>\n",
       "      <th>temp</th>\n",
       "      <th>target</th>\n",
       "    </tr>\n",
       "  </thead>\n",
       "  <tbody>\n",
       "    <tr>\n",
       "      <th>count</th>\n",
       "      <td>5000.000000</td>\n",
       "      <td>5000.000000</td>\n",
       "      <td>5000.000000</td>\n",
       "      <td>5000.000000</td>\n",
       "      <td>5000.000000</td>\n",
       "      <td>5000.000000</td>\n",
       "    </tr>\n",
       "    <tr>\n",
       "      <th>mean</th>\n",
       "      <td>146.191200</td>\n",
       "      <td>85.642800</td>\n",
       "      <td>73.706000</td>\n",
       "      <td>590.825000</td>\n",
       "      <td>101.504000</td>\n",
       "      <td>2.500000</td>\n",
       "    </tr>\n",
       "    <tr>\n",
       "      <th>std</th>\n",
       "      <td>19.483895</td>\n",
       "      <td>10.702472</td>\n",
       "      <td>10.814294</td>\n",
       "      <td>232.566449</td>\n",
       "      <td>4.402892</td>\n",
       "      <td>1.118146</td>\n",
       "    </tr>\n",
       "    <tr>\n",
       "      <th>min</th>\n",
       "      <td>49.000000</td>\n",
       "      <td>41.000000</td>\n",
       "      <td>42.000000</td>\n",
       "      <td>116.000000</td>\n",
       "      <td>59.000000</td>\n",
       "      <td>1.000000</td>\n",
       "    </tr>\n",
       "    <tr>\n",
       "      <th>25%</th>\n",
       "      <td>130.000000</td>\n",
       "      <td>80.000000</td>\n",
       "      <td>64.000000</td>\n",
       "      <td>393.750000</td>\n",
       "      <td>98.000000</td>\n",
       "      <td>1.750000</td>\n",
       "    </tr>\n",
       "    <tr>\n",
       "      <th>50%</th>\n",
       "      <td>140.000000</td>\n",
       "      <td>90.000000</td>\n",
       "      <td>74.000000</td>\n",
       "      <td>579.500000</td>\n",
       "      <td>101.000000</td>\n",
       "      <td>2.500000</td>\n",
       "    </tr>\n",
       "    <tr>\n",
       "      <th>75%</th>\n",
       "      <td>162.500000</td>\n",
       "      <td>94.000000</td>\n",
       "      <td>81.000000</td>\n",
       "      <td>794.500000</td>\n",
       "      <td>104.000000</td>\n",
       "      <td>3.250000</td>\n",
       "    </tr>\n",
       "    <tr>\n",
       "      <th>max</th>\n",
       "      <td>180.000000</td>\n",
       "      <td>104.000000</td>\n",
       "      <td>148.000000</td>\n",
       "      <td>1133.000000</td>\n",
       "      <td>193.000000</td>\n",
       "      <td>4.000000</td>\n",
       "    </tr>\n",
       "  </tbody>\n",
       "</table>\n",
       "</div>"
      ],
      "text/plain": [
       "                bp          oxy           hb          ecg         temp  \\\n",
       "count  5000.000000  5000.000000  5000.000000  5000.000000  5000.000000   \n",
       "mean    146.191200    85.642800    73.706000   590.825000   101.504000   \n",
       "std      19.483895    10.702472    10.814294   232.566449     4.402892   \n",
       "min      49.000000    41.000000    42.000000   116.000000    59.000000   \n",
       "25%     130.000000    80.000000    64.000000   393.750000    98.000000   \n",
       "50%     140.000000    90.000000    74.000000   579.500000   101.000000   \n",
       "75%     162.500000    94.000000    81.000000   794.500000   104.000000   \n",
       "max     180.000000   104.000000   148.000000  1133.000000   193.000000   \n",
       "\n",
       "            target  \n",
       "count  5000.000000  \n",
       "mean      2.500000  \n",
       "std       1.118146  \n",
       "min       1.000000  \n",
       "25%       1.750000  \n",
       "50%       2.500000  \n",
       "75%       3.250000  \n",
       "max       4.000000  "
      ]
     },
     "execution_count": 24,
     "metadata": {},
     "output_type": "execute_result"
    }
   ],
   "source": [
    "df.describe()   ## attribute min max and mean , count , sd   each attributes"
   ]
  },
  {
   "cell_type": "markdown",
   "id": "41f7559e",
   "metadata": {},
   "source": [
    "___________________________________\n",
    "\n",
    "# Modelling\n",
    "___________________________"
   ]
  },
  {
   "cell_type": "code",
   "execution_count": 41,
   "id": "14c4b1e2",
   "metadata": {},
   "outputs": [],
   "source": [
    "from sklearn.model_selection import train_test_split\n",
    "from sklearn.linear_model import LogisticRegression\n",
    "\n",
    "\n",
    "\n",
    "\n",
    "from sklearn.ensemble import RandomForestClassifier\n",
    "from sklearn import tree\n",
    "\n",
    "\n",
    "\n",
    "\n",
    "\n",
    "# from sklearn import metrics\n",
    "# from sklearn.metrics import confusion_matrix,classification_report\n",
    "# from sklearn.metrics import f1_score,plot_roc_curve,accuracy_score,roc_curve,roc_auc_score,recall_score\n",
    "# from mlxtend.plotting import plot_confusion_matrix\n",
    "\n",
    "# from sklearn.model_selection import GridSearchCV\n",
    "\n",
    "from sklearn.ensemble import ExtraTreesClassifier\n",
    "\n",
    "# from sklearn.linear_model import RidgeCV\n",
    "from sklearn.model_selection import train_test_split\n",
    "# from sklearn.pipeline import make_pipeline, make_union\n",
    "# from sklearn.preprocessing import PolynomialFeatures\n",
    "\n",
    "# from sklearn.ensemble import AdaBoostRegressor\n",
    "# from sklearn.feature_selection import SelectFwe, f_regression"
   ]
  },
  {
   "cell_type": "code",
   "execution_count": 26,
   "id": "102b4b46",
   "metadata": {},
   "outputs": [],
   "source": [
    "X = df.drop('target',axis=1).values\n",
    "Y = df['target'].values"
   ]
  },
  {
   "cell_type": "code",
   "execution_count": 27,
   "id": "36f251e0",
   "metadata": {},
   "outputs": [
    {
     "data": {
      "text/html": [
       "<div>\n",
       "<style scoped>\n",
       "    .dataframe tbody tr th:only-of-type {\n",
       "        vertical-align: middle;\n",
       "    }\n",
       "\n",
       "    .dataframe tbody tr th {\n",
       "        vertical-align: top;\n",
       "    }\n",
       "\n",
       "    .dataframe thead th {\n",
       "        text-align: right;\n",
       "    }\n",
       "</style>\n",
       "<table border=\"1\" class=\"dataframe\">\n",
       "  <thead>\n",
       "    <tr style=\"text-align: right;\">\n",
       "      <th></th>\n",
       "      <th>bp</th>\n",
       "      <th>oxy</th>\n",
       "      <th>hb</th>\n",
       "      <th>ecg</th>\n",
       "      <th>temp</th>\n",
       "      <th>target</th>\n",
       "    </tr>\n",
       "  </thead>\n",
       "  <tbody>\n",
       "    <tr>\n",
       "      <th>0</th>\n",
       "      <td>125</td>\n",
       "      <td>96</td>\n",
       "      <td>58</td>\n",
       "      <td>202</td>\n",
       "      <td>98</td>\n",
       "      <td>1</td>\n",
       "    </tr>\n",
       "    <tr>\n",
       "      <th>1</th>\n",
       "      <td>124</td>\n",
       "      <td>98</td>\n",
       "      <td>62</td>\n",
       "      <td>218</td>\n",
       "      <td>98</td>\n",
       "      <td>1</td>\n",
       "    </tr>\n",
       "    <tr>\n",
       "      <th>2</th>\n",
       "      <td>120</td>\n",
       "      <td>94</td>\n",
       "      <td>60</td>\n",
       "      <td>345</td>\n",
       "      <td>97</td>\n",
       "      <td>1</td>\n",
       "    </tr>\n",
       "    <tr>\n",
       "      <th>3</th>\n",
       "      <td>125</td>\n",
       "      <td>96</td>\n",
       "      <td>56</td>\n",
       "      <td>309</td>\n",
       "      <td>96</td>\n",
       "      <td>1</td>\n",
       "    </tr>\n",
       "    <tr>\n",
       "      <th>4</th>\n",
       "      <td>125</td>\n",
       "      <td>96</td>\n",
       "      <td>56</td>\n",
       "      <td>267</td>\n",
       "      <td>96</td>\n",
       "      <td>1</td>\n",
       "    </tr>\n",
       "    <tr>\n",
       "      <th>...</th>\n",
       "      <td>...</td>\n",
       "      <td>...</td>\n",
       "      <td>...</td>\n",
       "      <td>...</td>\n",
       "      <td>...</td>\n",
       "      <td>...</td>\n",
       "    </tr>\n",
       "    <tr>\n",
       "      <th>4995</th>\n",
       "      <td>172</td>\n",
       "      <td>71</td>\n",
       "      <td>87</td>\n",
       "      <td>847</td>\n",
       "      <td>107</td>\n",
       "      <td>4</td>\n",
       "    </tr>\n",
       "    <tr>\n",
       "      <th>4996</th>\n",
       "      <td>170</td>\n",
       "      <td>65</td>\n",
       "      <td>81</td>\n",
       "      <td>924</td>\n",
       "      <td>107</td>\n",
       "      <td>4</td>\n",
       "    </tr>\n",
       "    <tr>\n",
       "      <th>4997</th>\n",
       "      <td>176</td>\n",
       "      <td>74</td>\n",
       "      <td>86</td>\n",
       "      <td>802</td>\n",
       "      <td>109</td>\n",
       "      <td>4</td>\n",
       "    </tr>\n",
       "    <tr>\n",
       "      <th>4998</th>\n",
       "      <td>172</td>\n",
       "      <td>64</td>\n",
       "      <td>92</td>\n",
       "      <td>934</td>\n",
       "      <td>109</td>\n",
       "      <td>4</td>\n",
       "    </tr>\n",
       "    <tr>\n",
       "      <th>4999</th>\n",
       "      <td>177</td>\n",
       "      <td>63</td>\n",
       "      <td>90</td>\n",
       "      <td>834</td>\n",
       "      <td>107</td>\n",
       "      <td>4</td>\n",
       "    </tr>\n",
       "  </tbody>\n",
       "</table>\n",
       "<p>5000 rows × 6 columns</p>\n",
       "</div>"
      ],
      "text/plain": [
       "       bp  oxy  hb  ecg  temp  target\n",
       "0     125   96  58  202    98       1\n",
       "1     124   98  62  218    98       1\n",
       "2     120   94  60  345    97       1\n",
       "3     125   96  56  309    96       1\n",
       "4     125   96  56  267    96       1\n",
       "...   ...  ...  ..  ...   ...     ...\n",
       "4995  172   71  87  847   107       4\n",
       "4996  170   65  81  924   107       4\n",
       "4997  176   74  86  802   109       4\n",
       "4998  172   64  92  934   109       4\n",
       "4999  177   63  90  834   107       4\n",
       "\n",
       "[5000 rows x 6 columns]"
      ]
     },
     "execution_count": 27,
     "metadata": {},
     "output_type": "execute_result"
    }
   ],
   "source": [
    "df"
   ]
  },
  {
   "cell_type": "code",
   "execution_count": 28,
   "id": "67144945",
   "metadata": {},
   "outputs": [
    {
     "data": {
      "text/plain": [
       "(5000, 5)"
      ]
     },
     "execution_count": 28,
     "metadata": {},
     "output_type": "execute_result"
    }
   ],
   "source": [
    "X.shape"
   ]
  },
  {
   "cell_type": "code",
   "execution_count": 29,
   "id": "9c25934e",
   "metadata": {},
   "outputs": [
    {
     "data": {
      "text/plain": [
       "(5000,)"
      ]
     },
     "execution_count": 29,
     "metadata": {},
     "output_type": "execute_result"
    }
   ],
   "source": [
    "Y.shape"
   ]
  },
  {
   "cell_type": "code",
   "execution_count": 30,
   "id": "581e4470",
   "metadata": {},
   "outputs": [],
   "source": [
    "# Split the dataset into training and testing.\n",
    "X_train, X_test, Y_train, Y_test = train_test_split(X, Y, test_size=0.2, random_state=0)"
   ]
  },
  {
   "cell_type": "code",
   "execution_count": 31,
   "id": "229875e6",
   "metadata": {},
   "outputs": [
    {
     "name": "stdout",
     "output_type": "stream",
     "text": [
      "(4000, 5)\n",
      "(1000, 5)\n",
      "(4000,)\n",
      "(1000,)\n"
     ]
    }
   ],
   "source": [
    "print(X_train.shape)\n",
    "print(X_test.shape)\n",
    "print(Y_train.shape)\n",
    "print(Y_test.shape)"
   ]
  },
  {
   "cell_type": "markdown",
   "id": "3e5b222a",
   "metadata": {},
   "source": [
    "------------------------\n",
    "**` 1-LogisticRegression`**\n",
    "----------------------"
   ]
  },
  {
   "cell_type": "code",
   "execution_count": 32,
   "id": "0f5465e8",
   "metadata": {},
   "outputs": [
    {
     "name": "stdout",
     "output_type": "stream",
     "text": [
      "the prediciton is  [1]\n",
      "[1 4 4 4 1 3 1 2 1 2 4 2 4 1 1 3 1 3 2 2 1 3 1 4 4 1 3 4 3 1 4 4 4 2 2 2 4\n",
      " 3 4 3 3 3 4 2 1 2 1 4 1 3 4 3 1 2 2 4 1 4 1 3 3 1 3 3 4 1 2 2 4 2 1 4 2 3\n",
      " 1 2 1 1 3 3 3 1 3 1 2 1 1 2 2 3 3 1 4 1 1 3 3 4 3 1 1 2 4 4 1 4 3 2 4 2 1\n",
      " 4 3 2 2 3 4 4 4 3 2 4 2 4 4 4 1 3 4 2 1 4 3 1 1 3 2 4 2 3 2 1 3 4 2 2 4 3\n",
      " 4 3 1 3 4 4 1 1 4 2 1 4 1 4 3 1 2 3 4 4 4 1 2 4 4 1 2 3 4 3 4 3 1 1 1 1 3\n",
      " 1 3 1 4 3 4 4 1 1 1 3 4 2 4 1 1 4 3 1 2 1 4 2 4 2 3 3 3 4 1 4 1 3 2 1 4 3\n",
      " 2 3 1 1 3 1 4 2 3 1 3 2 4 1 3 1 1 1 4 3 4 1 4 3 3 2 4 2 1 1 2 4 3 3 3 3 4\n",
      " 3 3 4 2 2 4 2 1 2 4 1 3 3 4 3 3 2 1 1 4 1 1 4 4 3 2 3 1 1 4 2 3 3 3 1 2 1\n",
      " 4 2 4 2 4 3 1 4 3 1 3 3 4 1 4 4 1 1 4 2 1 3 3 2 3 3 3 3 1 1 4 3 4 1 1 2 3\n",
      " 4 3 4 3 1 2 4 3 4 4 4 3 1 4 3 2 4 4 4 2 1 4 3 3 4 4 2 2 2 2 1 2 4 4 4 2 4\n",
      " 4 2 4 2 1 4 3 2 2 3 1 4 2 4 4 2 3 4 1 3 1 4 2 3 3 1 1 1 1 2 4 3 3 2 1 2 3\n",
      " 3 3 3 1 4 2 1 1 4 1 3 4 2 3 1 4 3 2 2 2 3 3 2 2 1 4 3 2 2 3 3 2 1 3 4 2 4\n",
      " 4 4 2 4 3 1 3 2 3 4 1 4 1 4 3 3 3 1 4 1 1 1 3 3 2 3 1 2 2 1 4 2 4 1 2 1 4\n",
      " 3 1 1 4 2 1 3 1 3 3 4 4 2 3 2 4 2 2 3 4 4 4 3 2 1 1 1 4 1 4 2 2 4 3 1 1 4\n",
      " 4 3 3 3 4 3 4 4 3 2 1 1 3 1 2 3 4 3 1 2 4 3 3 1 1 2 3 3 1 1 4 3 4 2 2 1 4\n",
      " 3 4 1 4 3 3 1 3 3 4 1 3 3 3 4 2 3 4 2 2 2 1 3 1 4 1 4 1 3 2 1 2 1 4 3 4 1\n",
      " 2 2 2 3 3 3 3 3 2 2 3 3 1 1 1 3 4 2 1 2 4 2 1 2 2 2 4 1 1 3 4 2 1 4 4 4 4\n",
      " 4 2 2 3 3 4 2 3 2 2 1 4 2 1 2 1 1 3 3 2 1 2 4 1 4 1 1 2 1 1 4 4 3 4 2 3 2\n",
      " 3 3 4 4 3 4 2 1 4 1 2 3 2 2 3 3 2 2 4 3 2 4 2 2 4 3 4 2 1 2 3 3 2 3 2 3 3\n",
      " 4 3 3 4 3 4 2 2 1 3 1 1 1 1 3 1 3 3 1 1 3 4 4 1 3 3 4 1 1 2 4 4 3 3 3 2 4\n",
      " 2 2 3 2 3 3 3 2 3 4 3 3 3 2 1 3 2 1 3 1 3 3 1 4 2 2 4 1 2 4 4 2 2 2 3 2 1\n",
      " 3 4 3 2 4 4 4 3 1 4 1 3 1 3 3 4 2 1 4 3 3 2 2 4 1 1 1 4 3 4 3 1 1 3 2 2 4\n",
      " 1 1 4 2 4 3 3 4 3 4 3 3 4 3 4 1 4 1 2 2 1 1 2 4 2 3 3 4 3 2 4 2 4 4 2 3 4\n",
      " 2 4 1 1 1 2 2 4 3 2 1 4 1 1 2 2 4 1 3 2 3 2 2 1 1 2 2 1 4 3 4 4 3 1 1 3 4\n",
      " 1 3 1 4 1 2 1 2 2 4 4 4 2 2 3 3 3 2 4 2 2 1 4 4 4 1 2 4 3 3 2 2 1 1 2 1 3\n",
      " 2 4 4 2 3 2 3 1 4 3 2 2 2 1 1 1 4 2 1 1 1 4 1 3 2 2 1 4 1 1 2 2 4 3 4 1 3\n",
      " 2 4 1 2 2 1 1 4 4 4 2 2 1 2 1 1 3 2 3 3 1 2 2 2 2 2 4 3 1 4 3 4 2 4 1 1 2\n",
      " 3]\n"
     ]
    }
   ],
   "source": [
    "# Train and predict.\n",
    "LL = LogisticRegression(solver='liblinear',max_iter = 1000, random_state = 31)    ##  importing  algorithm features\n",
    "LL.fit(X_train,Y_train)     ## fit training \n",
    "Y_pred_lr = LL.predict(X_test) \n",
    "# prd = LL.predict([[124,98,62,218,98]])\n",
    "# print(\"the prediciton is \",prd)\n",
    "y_pred_lr = np.around(Y_pred_lr)\n",
    "print(y_pred_lr)"
   ]
  },
  {
   "cell_type": "code",
   "execution_count": 43,
   "id": "1c6c8371",
   "metadata": {},
   "outputs": [
    {
     "data": {
      "text/plain": [
       "96.7"
      ]
     },
     "execution_count": 43,
     "metadata": {},
     "output_type": "execute_result"
    }
   ],
   "source": [
    "score_lr = round(accuracy_score(Y_pred_lr,Y_test)*100,4)\n",
    "score_lr"
   ]
  },
  {
   "cell_type": "code",
   "execution_count": 46,
   "id": "9d0c25a4",
   "metadata": {
    "scrolled": true
   },
   "outputs": [
    {
     "data": {
      "image/png": "[encoded data removed]",
      "text/plain": [
       "<Figure size 1080x360 with 1 Axes>"
      ]
     },
     "metadata": {
      "needs_background": "light"
     },
     "output_type": "display_data"
    }
   ],
   "source": [
    "# Confusion matrix.\n",
    "conf_mat = metrics.confusion_matrix(Y_test,Y_pred_lr)\n",
    "plot_confusion_matrix(conf_mat,class_names=[\"normal\",\"mild\",\"moderate\",\"severe\"],figsize=(15,5),cmap='copper_r'); #fn\n",
    "plt.savefig(\"LRcrr.png\")"
   ]
  },
  {
   "cell_type": "code",
   "execution_count": 35,
   "id": "0779cc2b",
   "metadata": {},
   "outputs": [
    {
     "name": "stdout",
     "output_type": "stream",
     "text": [
      "              precision    recall  f1-score   support\n",
      "\n",
      "           1       0.99      0.99      0.99       250\n",
      "           2       0.92      0.94      0.93       231\n",
      "           3       0.95      0.94      0.94       262\n",
      "           4       1.00      1.00      1.00       257\n",
      "\n",
      "    accuracy                           0.97      1000\n",
      "   macro avg       0.97      0.97      0.97      1000\n",
      "weighted avg       0.97      0.97      0.97      1000\n",
      "\n"
     ]
    }
   ],
   "source": [
    "from sklearn import metrics\n",
    "print(metrics.classification_report(Y_test,y_pred_lr))"
   ]
  },
  {
   "cell_type": "markdown",
   "id": "f7091c5f",
   "metadata": {},
   "source": [
    "-----------------------\n",
    "**`-2- RandomForestClassifier`**\n",
    "--------------------"
   ]
  },
  {
   "cell_type": "code",
   "execution_count": 36,
   "id": "e86cd7a5",
   "metadata": {},
   "outputs": [
    {
     "name": "stdout",
     "output_type": "stream",
     "text": [
      "100.0\n",
      "0\n"
     ]
    }
   ],
   "source": [
    "max_accuracy = 0\n",
    "\n",
    "\n",
    "for x in range(500):\n",
    "    rf = RandomForestClassifier(random_state=x)\n",
    "    rf.fit(X_train,Y_train)\n",
    "    Y_pred_rf = rf.predict(X_test)\n",
    "    current_accuracy = round(accuracy_score(Y_pred_rf,Y_test)*100,2)\n",
    "    if(current_accuracy>max_accuracy):\n",
    "        max_accuracy = current_accuracy\n",
    "        best_x = x\n",
    "\n",
    "print(max_accuracy)\n",
    "print(best_x)\n",
    "\n"
   ]
  },
  {
   "cell_type": "code",
   "execution_count": 47,
   "id": "615dd8b5",
   "metadata": {},
   "outputs": [],
   "source": [
    "rf = RandomForestClassifier(random_state=best_x)\n",
    "rf.fit(X_train,Y_train)\n",
    "Y_pred_rf = rf.predict(X_test)\n",
    "# Y_pred_rf.shape\n"
   ]
  },
  {
   "cell_type": "code",
   "execution_count": 49,
   "id": "e031d88e",
   "metadata": {},
   "outputs": [
    {
     "data": {
      "text/plain": [
       "100.0"
      ]
     },
     "execution_count": 49,
     "metadata": {},
     "output_type": "execute_result"
    }
   ],
   "source": [
    "score_rf = round(accuracy_score(Y_pred_rf,Y_test)*100,2)\n",
    "score_rf"
   ]
  },
  {
   "cell_type": "code",
   "execution_count": 51,
   "id": "d2ac2071",
   "metadata": {},
   "outputs": [
    {
     "data": {
      "image/png": "[encoded data removed]",
      "text/plain": [
       "<Figure size 1080x360 with 1 Axes>"
      ]
     },
     "metadata": {
      "needs_background": "light"
     },
     "output_type": "display_data"
    }
   ],
   "source": [
    "# Confusion matrix.\n",
    "conf_mat = metrics.confusion_matrix(Y_pred_rf,Y_test)\n",
    "plot_confusion_matrix(conf_mat,class_names=[\"normal\",\"mild\",\"moderate\",\"severe\"],figsize=(15,5),cmap='copper_r'); #fn\n",
    "plt.savefig(\"LRcrr.png\")"
   ]
  },
  {
   "cell_type": "code",
   "execution_count": 39,
   "id": "67c19012",
   "metadata": {},
   "outputs": [
    {
     "name": "stdout",
     "output_type": "stream",
     "text": [
      "              precision    recall  f1-score   support\n",
      "\n",
      "           1       1.00      1.00      1.00       250\n",
      "           2       1.00      1.00      1.00       231\n",
      "           3       1.00      1.00      1.00       262\n",
      "           4       1.00      1.00      1.00       257\n",
      "\n",
      "    accuracy                           1.00      1000\n",
      "   macro avg       1.00      1.00      1.00      1000\n",
      "weighted avg       1.00      1.00      1.00      1000\n",
      "\n"
     ]
    }
   ],
   "source": [
    "Y_pred_rf = np.around(Y_pred_rf)\n",
    "print(metrics.classification_report(Y_test,Y_pred_rf))"
   ]
  },
  {
   "cell_type": "markdown",
   "id": "a95a47f8",
   "metadata": {},
   "source": [
    "-----------------------\n",
    "**`-3- Showing Final Scores`**\n",
    "--------------------"
   ]
  },
  {
   "cell_type": "code",
   "execution_count": 53,
   "id": "dad0c388",
   "metadata": {},
   "outputs": [
    {
     "name": "stdout",
     "output_type": "stream",
     "text": [
      "The accuracy score achieved using Logistic Regression is: 96.7 %\n",
      "The accuracy score achieved using Random Forest is: 100.0 %\n"
     ]
    }
   ],
   "source": [
    "scores = [score_lr,score_rf]\n",
    "Models = [\"Logistic Regression\",\"Random Forest\"]    \n",
    "\n",
    "for i in range(len(Models)):\n",
    "    print(\"The accuracy score achieved using \"+Models[i]+\" is: \"+str(scores[i])+\" %\")"
   ]
  },
  {
   "cell_type": "code",
   "execution_count": 55,
   "id": "07d0d30a",
   "metadata": {},
   "outputs": [
    {
     "name": "stderr",
     "output_type": "stream",
     "text": [
      "C:\\Users\\Romes\\anaconda3\\envs\\csv\\lib\\site-packages\\seaborn\\_decorators.py:36: FutureWarning: Pass the following variables as keyword args: x, y. From version 0.12, the only valid positional argument will be `data`, and passing other arguments without an explicit keyword will result in an error or misinterpretation.\n",
      "  warnings.warn(\n"
     ]
    },
    {
     "data": {
      "image/png": "[encoded data removed]",
      "text/plain": [
       "<Figure size 1440x720 with 1 Axes>"
      ]
     },
     "metadata": {},
     "output_type": "display_data"
    }
   ],
   "source": [
    "sns.set(style=\"darkgrid\",rc={'figure.figsize':(20,10)})\n",
    "plt.xlabel(\"Accuracy score\")\n",
    "plt.ylabel(\"Models\",loc='center')\n",
    "\n",
    "sns.barplot(Models,scores)\n",
    "plt.savefig(\"AccuracyScores.png\")"
   ]
  },
  {
   "cell_type": "code",
   "execution_count": 56,
   "id": "3e95f6c5",
   "metadata": {},
   "outputs": [
    {
     "data": {
      "text/html": [
       "<div>\n",
       "<style scoped>\n",
       "    .dataframe tbody tr th:only-of-type {\n",
       "        vertical-align: middle;\n",
       "    }\n",
       "\n",
       "    .dataframe tbody tr th {\n",
       "        vertical-align: top;\n",
       "    }\n",
       "\n",
       "    .dataframe thead th {\n",
       "        text-align: right;\n",
       "    }\n",
       "</style>\n",
       "<table border=\"1\" class=\"dataframe\">\n",
       "  <thead>\n",
       "    <tr style=\"text-align: right;\">\n",
       "      <th></th>\n",
       "      <th>bp</th>\n",
       "      <th>oxy</th>\n",
       "      <th>hb</th>\n",
       "      <th>ecg</th>\n",
       "      <th>temp</th>\n",
       "      <th>target</th>\n",
       "    </tr>\n",
       "  </thead>\n",
       "  <tbody>\n",
       "    <tr>\n",
       "      <th>count</th>\n",
       "      <td>5000.000000</td>\n",
       "      <td>5000.000000</td>\n",
       "      <td>5000.000000</td>\n",
       "      <td>5000.000000</td>\n",
       "      <td>5000.000000</td>\n",
       "      <td>5000.000000</td>\n",
       "    </tr>\n",
       "    <tr>\n",
       "      <th>mean</th>\n",
       "      <td>146.191200</td>\n",
       "      <td>85.642800</td>\n",
       "      <td>73.706000</td>\n",
       "      <td>590.825000</td>\n",
       "      <td>101.504000</td>\n",
       "      <td>2.500000</td>\n",
       "    </tr>\n",
       "    <tr>\n",
       "      <th>std</th>\n",
       "      <td>19.483895</td>\n",
       "      <td>10.702472</td>\n",
       "      <td>10.814294</td>\n",
       "      <td>232.566449</td>\n",
       "      <td>4.402892</td>\n",
       "      <td>1.118146</td>\n",
       "    </tr>\n",
       "    <tr>\n",
       "      <th>min</th>\n",
       "      <td>49.000000</td>\n",
       "      <td>41.000000</td>\n",
       "      <td>42.000000</td>\n",
       "      <td>116.000000</td>\n",
       "      <td>59.000000</td>\n",
       "      <td>1.000000</td>\n",
       "    </tr>\n",
       "    <tr>\n",
       "      <th>25%</th>\n",
       "      <td>130.000000</td>\n",
       "      <td>80.000000</td>\n",
       "      <td>64.000000</td>\n",
       "      <td>393.750000</td>\n",
       "      <td>98.000000</td>\n",
       "      <td>1.750000</td>\n",
       "    </tr>\n",
       "    <tr>\n",
       "      <th>50%</th>\n",
       "      <td>140.000000</td>\n",
       "      <td>90.000000</td>\n",
       "      <td>74.000000</td>\n",
       "      <td>579.500000</td>\n",
       "      <td>101.000000</td>\n",
       "      <td>2.500000</td>\n",
       "    </tr>\n",
       "    <tr>\n",
       "      <th>75%</th>\n",
       "      <td>162.500000</td>\n",
       "      <td>94.000000</td>\n",
       "      <td>81.000000</td>\n",
       "      <td>794.500000</td>\n",
       "      <td>104.000000</td>\n",
       "      <td>3.250000</td>\n",
       "    </tr>\n",
       "    <tr>\n",
       "      <th>max</th>\n",
       "      <td>180.000000</td>\n",
       "      <td>104.000000</td>\n",
       "      <td>148.000000</td>\n",
       "      <td>1133.000000</td>\n",
       "      <td>193.000000</td>\n",
       "      <td>4.000000</td>\n",
       "    </tr>\n",
       "  </tbody>\n",
       "</table>\n",
       "</div>"
      ],
      "text/plain": [
       "                bp          oxy           hb          ecg         temp  \\\n",
       "count  5000.000000  5000.000000  5000.000000  5000.000000  5000.000000   \n",
       "mean    146.191200    85.642800    73.706000   590.825000   101.504000   \n",
       "std      19.483895    10.702472    10.814294   232.566449     4.402892   \n",
       "min      49.000000    41.000000    42.000000   116.000000    59.000000   \n",
       "25%     130.000000    80.000000    64.000000   393.750000    98.000000   \n",
       "50%     140.000000    90.000000    74.000000   579.500000   101.000000   \n",
       "75%     162.500000    94.000000    81.000000   794.500000   104.000000   \n",
       "max     180.000000   104.000000   148.000000  1133.000000   193.000000   \n",
       "\n",
       "            target  \n",
       "count  5000.000000  \n",
       "mean      2.500000  \n",
       "std       1.118146  \n",
       "min       1.000000  \n",
       "25%       1.750000  \n",
       "50%       2.500000  \n",
       "75%       3.250000  \n",
       "max       4.000000  "
      ]
     },
     "execution_count": 56,
     "metadata": {},
     "output_type": "execute_result"
    }
   ],
   "source": [
    "df.describe()"
   ]
  },
  {
   "cell_type": "code",
   "execution_count": 57,
   "id": "4adadf6d",
   "metadata": {},
   "outputs": [
    {
     "data": {
      "text/html": [
       "<div>\n",
       "<style scoped>\n",
       "    .dataframe tbody tr th:only-of-type {\n",
       "        vertical-align: middle;\n",
       "    }\n",
       "\n",
       "    .dataframe tbody tr th {\n",
       "        vertical-align: top;\n",
       "    }\n",
       "\n",
       "    .dataframe thead th {\n",
       "        text-align: right;\n",
       "    }\n",
       "</style>\n",
       "<table border=\"1\" class=\"dataframe\">\n",
       "  <thead>\n",
       "    <tr style=\"text-align: right;\">\n",
       "      <th></th>\n",
       "      <th>bp</th>\n",
       "      <th>oxy</th>\n",
       "      <th>hb</th>\n",
       "      <th>ecg</th>\n",
       "      <th>temp</th>\n",
       "      <th>target</th>\n",
       "    </tr>\n",
       "  </thead>\n",
       "  <tbody>\n",
       "    <tr>\n",
       "      <th>0</th>\n",
       "      <td>125</td>\n",
       "      <td>96</td>\n",
       "      <td>58</td>\n",
       "      <td>202</td>\n",
       "      <td>98</td>\n",
       "      <td>1</td>\n",
       "    </tr>\n",
       "    <tr>\n",
       "      <th>1</th>\n",
       "      <td>124</td>\n",
       "      <td>98</td>\n",
       "      <td>62</td>\n",
       "      <td>218</td>\n",
       "      <td>98</td>\n",
       "      <td>1</td>\n",
       "    </tr>\n",
       "    <tr>\n",
       "      <th>2</th>\n",
       "      <td>120</td>\n",
       "      <td>94</td>\n",
       "      <td>60</td>\n",
       "      <td>345</td>\n",
       "      <td>97</td>\n",
       "      <td>1</td>\n",
       "    </tr>\n",
       "    <tr>\n",
       "      <th>3</th>\n",
       "      <td>125</td>\n",
       "      <td>96</td>\n",
       "      <td>56</td>\n",
       "      <td>309</td>\n",
       "      <td>96</td>\n",
       "      <td>1</td>\n",
       "    </tr>\n",
       "    <tr>\n",
       "      <th>4</th>\n",
       "      <td>125</td>\n",
       "      <td>96</td>\n",
       "      <td>56</td>\n",
       "      <td>267</td>\n",
       "      <td>96</td>\n",
       "      <td>1</td>\n",
       "    </tr>\n",
       "  </tbody>\n",
       "</table>\n",
       "</div>"
      ],
      "text/plain": [
       "    bp  oxy  hb  ecg  temp  target\n",
       "0  125   96  58  202    98       1\n",
       "1  124   98  62  218    98       1\n",
       "2  120   94  60  345    97       1\n",
       "3  125   96  56  309    96       1\n",
       "4  125   96  56  267    96       1"
      ]
     },
     "execution_count": 57,
     "metadata": {},
     "output_type": "execute_result"
    }
   ],
   "source": [
    "df.head()"
   ]
  },
  {
   "cell_type": "code",
   "execution_count": 58,
   "id": "e4e129dd",
   "metadata": {},
   "outputs": [
    {
     "data": {
      "text/html": [
       "<div>\n",
       "<style scoped>\n",
       "    .dataframe tbody tr th:only-of-type {\n",
       "        vertical-align: middle;\n",
       "    }\n",
       "\n",
       "    .dataframe tbody tr th {\n",
       "        vertical-align: top;\n",
       "    }\n",
       "\n",
       "    .dataframe thead th {\n",
       "        text-align: right;\n",
       "    }\n",
       "</style>\n",
       "<table border=\"1\" class=\"dataframe\">\n",
       "  <thead>\n",
       "    <tr style=\"text-align: right;\">\n",
       "      <th></th>\n",
       "      <th>bp</th>\n",
       "      <th>oxy</th>\n",
       "      <th>hb</th>\n",
       "      <th>ecg</th>\n",
       "      <th>temp</th>\n",
       "      <th>target</th>\n",
       "    </tr>\n",
       "  </thead>\n",
       "  <tbody>\n",
       "    <tr>\n",
       "      <th>4995</th>\n",
       "      <td>172</td>\n",
       "      <td>71</td>\n",
       "      <td>87</td>\n",
       "      <td>847</td>\n",
       "      <td>107</td>\n",
       "      <td>4</td>\n",
       "    </tr>\n",
       "    <tr>\n",
       "      <th>4996</th>\n",
       "      <td>170</td>\n",
       "      <td>65</td>\n",
       "      <td>81</td>\n",
       "      <td>924</td>\n",
       "      <td>107</td>\n",
       "      <td>4</td>\n",
       "    </tr>\n",
       "    <tr>\n",
       "      <th>4997</th>\n",
       "      <td>176</td>\n",
       "      <td>74</td>\n",
       "      <td>86</td>\n",
       "      <td>802</td>\n",
       "      <td>109</td>\n",
       "      <td>4</td>\n",
       "    </tr>\n",
       "    <tr>\n",
       "      <th>4998</th>\n",
       "      <td>172</td>\n",
       "      <td>64</td>\n",
       "      <td>92</td>\n",
       "      <td>934</td>\n",
       "      <td>109</td>\n",
       "      <td>4</td>\n",
       "    </tr>\n",
       "    <tr>\n",
       "      <th>4999</th>\n",
       "      <td>177</td>\n",
       "      <td>63</td>\n",
       "      <td>90</td>\n",
       "      <td>834</td>\n",
       "      <td>107</td>\n",
       "      <td>4</td>\n",
       "    </tr>\n",
       "  </tbody>\n",
       "</table>\n",
       "</div>"
      ],
      "text/plain": [
       "       bp  oxy  hb  ecg  temp  target\n",
       "4995  172   71  87  847   107       4\n",
       "4996  170   65  81  924   107       4\n",
       "4997  176   74  86  802   109       4\n",
       "4998  172   64  92  934   109       4\n",
       "4999  177   63  90  834   107       4"
      ]
     },
     "execution_count": 58,
     "metadata": {},
     "output_type": "execute_result"
    }
   ],
   "source": [
    "df.tail()\n"
   ]
  },
  {
   "cell_type": "markdown",
   "id": "49294619",
   "metadata": {},
   "source": [
    "## Testing"
   ]
  },
  {
   "cell_type": "code",
   "execution_count": 59,
   "id": "9f907805",
   "metadata": {},
   "outputs": [
    {
     "name": "stdout",
     "output_type": "stream",
     "text": [
      "[1]\n",
      "The Person does not have covid\n"
     ]
    }
   ],
   "source": [
    "# Input = (125,96,58,202,98)\n",
    "Input = (124,98,62,218,98)\n",
    "\n",
    "Input_array= np.asarray(Input)\n",
    "Input_reshaped = Input_array.reshape(1,-1)\n",
    "\n",
    "prediction = LL.predict(Input_reshaped)\n",
    "prediction = np.around(prediction)\n",
    "\n",
    "print(prediction)\n",
    "\n",
    "if (prediction[0]== 1):\n",
    "  print('The Person does not have covid')\n",
    "elif(prediction[0]== 2):\n",
    "  print(\"The Person will has 1 %f \"%(prediction))\n",
    "elif(prediction[0]== 3):\n",
    "    print(\"The Person will has 12%f \"%(prediction))\n",
    "elif(prediction[0]== 4):\n",
    "    print(\"The Person will has 123 %f \"%(prediction))\n"
   ]
  },
  {
   "cell_type": "code",
   "execution_count": 60,
   "id": "e558068e",
   "metadata": {},
   "outputs": [
    {
     "name": "stdout",
     "output_type": "stream",
     "text": [
      "[4]\n",
      "The Person will has 123 4.000000 \n"
     ]
    }
   ],
   "source": [
    "Input = (172,71,87,847,107)\n",
    "\n",
    "Input_array= np.asarray(Input)\n",
    "Input_reshaped = Input_array.reshape(1,-1)\n",
    "\n",
    "prediction = LL.predict(Input_reshaped)\n",
    "prediction = np.around(prediction)\n",
    "\n",
    "print(prediction)\n",
    "\n",
    "if (prediction[0]== 1):\n",
    "  print('The Person does not have issues')\n",
    "elif(prediction[0]== 2):\n",
    "  print(\"The Person will has 1 %f \"%(prediction))\n",
    "elif(prediction[0]== 3):\n",
    "    print(\"The Person will has 12%f \"%(prediction))\n",
    "elif(prediction[0]== 4):\n",
    "    print(\"The Person will has 123 %f \"%(prediction))\n"
   ]
  },
  {
   "cell_type": "code",
   "execution_count": 61,
   "id": "e9999d8e",
   "metadata": {
    "scrolled": true
   },
   "outputs": [
    {
     "name": "stdout",
     "output_type": "stream",
     "text": [
      "29.4444429.4444432\n",
      "\n",
      " Current bp feed is : \n",
      "\n",
      "0.00000\t\n",
      "\n",
      "Current oxy feed is: \n",
      "\n",
      "0.00000\t\n",
      "\n",
      "Current hb feed is: \n",
      "\n",
      "5\t\n",
      "\n",
      "Current temp feed is: \n",
      "\n",
      "29.4444429.4444432\t\n"
     ]
    },
    {
     "ename": "NameError",
     "evalue": "name 'ttk' is not defined",
     "output_type": "error",
     "traceback": [
      "\u001b[1;31m---------------------------------------------------------------------------\u001b[0m",
      "\u001b[1;31mNameError\u001b[0m                                 Traceback (most recent call last)",
      "Input \u001b[1;32mIn [61]\u001b[0m, in \u001b[0;36m<cell line: 53>\u001b[1;34m()\u001b[0m\n\u001b[0;32m     50\u001b[0m var\u001b[38;5;241m.\u001b[39mset(\u001b[38;5;124m'\u001b[39m\u001b[38;5;124mpatient survilence\u001b[39m\u001b[38;5;124m'\u001b[39m)  \u001b[38;5;66;03m#########\u001b[39;00m\n\u001b[0;32m     51\u001b[0m label\u001b[38;5;241m.\u001b[39mgrid(row\u001b[38;5;241m=\u001b[39m\u001b[38;5;241m0\u001b[39m,columnspan\u001b[38;5;241m=\u001b[39m\u001b[38;5;241m6\u001b[39m)\n\u001b[1;32m---> 53\u001b[0m label_1 \u001b[38;5;241m=\u001b[39m \u001b[43mttk\u001b[49m\u001b[38;5;241m.\u001b[39mLabel(root, text \u001b[38;5;241m=\u001b[39m\u001b[38;5;124m'\u001b[39m\u001b[38;5;124mBlood pressure\u001b[39m\u001b[38;5;124m'\u001b[39m,font\u001b[38;5;241m=\u001b[39m(\u001b[38;5;124m\"\u001b[39m\u001b[38;5;124mHelvetica\u001b[39m\u001b[38;5;124m\"\u001b[39m, \u001b[38;5;241m16\u001b[39m),background\u001b[38;5;241m=\u001b[39m\u001b[38;5;124m\"\u001b[39m\u001b[38;5;124m#ffffff\u001b[39m\u001b[38;5;124m\"\u001b[39m)\n\u001b[0;32m     54\u001b[0m label_1\u001b[38;5;241m.\u001b[39mgrid(row\u001b[38;5;241m=\u001b[39m\u001b[38;5;241m11\u001b[39m,column\u001b[38;5;241m=\u001b[39m\u001b[38;5;241m0\u001b[39m)\n\u001b[0;32m     56\u001b[0m label_11 \u001b[38;5;241m=\u001b[39m ttk\u001b[38;5;241m.\u001b[39mLabel(root, text \u001b[38;5;241m=\u001b[39mbp,font\u001b[38;5;241m=\u001b[39m(\u001b[38;5;124m\"\u001b[39m\u001b[38;5;124mHelvetica\u001b[39m\u001b[38;5;124m\"\u001b[39m, \u001b[38;5;241m16\u001b[39m),background\u001b[38;5;241m=\u001b[39m\u001b[38;5;124m\"\u001b[39m\u001b[38;5;124mPurple3\u001b[39m\u001b[38;5;124m\"\u001b[39m)\n",
      "\u001b[1;31mNameError\u001b[0m: name 'ttk' is not defined"
     ]
    }
   ],
   "source": [
    "from tkinter import *\n",
    "import tkinter as tk\n",
    "# import tkinter as tk\n",
    "# from tkinter import tk\n",
    "\n",
    "import requests\n",
    "from twilio.rest import Client\n",
    "\n",
    "\n",
    "\n",
    "# aaa=requests.get(\"https://api.thingspeak.com/channels/1720373/feeds.json?api_key=Z6PC42TJER35N0LL&results=2\")\n",
    "# key=\"Z6PC42TJER35N0LL\"\n",
    "# bp=aaa.json()['feeds'][-1]['field4']\n",
    "# oxy=aaa.json()['feeds'][-1]['field3']\n",
    "# hb=aaa.json()['feeds'][-1]['field1']\n",
    "# # ecg=aaa.json()['feeds'][-1]['field4']\n",
    "# tem=aaa.json()['feeds'][-1]['field2']\n",
    "\n",
    "# i=32\n",
    "# temp=str(i)\n",
    "# temp = (tem * 2)+temp\n",
    "# print(temp)\n",
    "\n",
    "# bp=str(bp)+'\\t'  ##   +str(p)+'\\n'\n",
    "# oxy=str(oxy)+'\\t'\n",
    "# hb=str(hb)+'\\t'\n",
    "# # ecg=str(ecg)+'\\t'\n",
    "# temp=str(temp)+'\\t'\n",
    "# print(\"\\n Current bp feed is : \\n\\n\"+str(bp))\n",
    "# print(\"\\nCurrent oxy feed is: \\n\\n\"+str(oxy))\n",
    "# print(\"\\nCurrent hb feed is: \\n\\n\"+str(hb))\n",
    "# # print(\"\\nCurrent ecg feed is: \\n\\n\"+str(ecg))\n",
    "# print(\"\\nCurrent temp feed is: \\n\\n\"+str(temp))\n",
    "\n",
    "\n",
    "\n",
    "\n",
    "\n",
    "\n",
    "\n",
    "\n",
    "\n",
    "\n",
    "root = tk.Tk()\n",
    "root.title('Remote patient monitoring')\n",
    "root.geometry('850x650')\n",
    "root.configure(background=\"#ffffff\")\n",
    "var = StringVar()\n",
    "label = Label( root, textvariable = var,font=('arial',20,'bold'),bd=20,background=\"#ffffff\")\n",
    "var.set('patient survilence')  #########\n",
    "label.grid(row=0,columnspan=6)\n",
    "\n",
    "label_1 = tk.Label(root, text ='Blood pressure',font=(\"Helvetica\", 16),background=\"#ffffff\")\n",
    "label_1.grid(row=11,column=0)\n",
    "\n",
    "# label_11 = tk.Label(root, text =bp,font=(\"Helvetica\", 16),background=\"Purple3\")\n",
    "# label_11.grid(row=11,column=1)\n",
    "    \n",
    "Entry_1= Entry(root)\n",
    "Entry_1.grid(row=11,column=1)\n",
    "\n",
    "label_2 = tk.Label(root, text ='SpO2',font=(\"Helvetica\", 16),background=\"#ffffff\")\n",
    "label_2.grid(row=12,column=0)\n",
    "\n",
    "# label_22 = tk.Label(root, text =oxy,font=(\"Helvetica\", 16),background=\"Purple3\")\n",
    "# label_22.grid(row=12,column=1)\n",
    "    \n",
    "Entry_2 = Entry(root)\n",
    "Entry_2.grid(row=12,column=1)\n",
    "    \n",
    "    \n",
    "label_3 = tk.Label(root, text ='Heart beat',font=(\"Helvetica\", 16),background=\"#ffffff\")\n",
    "label_3.grid(row=13,column=0)\n",
    "\n",
    "# label_33 = tk.Label(root, text =hb,font=(\"Helvetica\", 16),background=\"Purple3\")\n",
    "# label_33.grid(row=13,column=1)\n",
    "    \n",
    "Entry_3 = Entry(root)\n",
    "Entry_3.grid(row=13,column=1)\n",
    "\n",
    "label_4 = tk.Label(root, text ='ECG rate',font=(\"Helvetica\", 16),background=\"#ffffff\")\n",
    "label_4.grid(row=14,column=0)\n",
    "\n",
    "# label_44 = ttk.Label(root, text =ecg,font=(\"Helvetica\", 16),background=\"Purple3\")\n",
    "# label_44.grid(row=14,column=1)\n",
    "    \n",
    "Entry_4= Entry(root)\n",
    "Entry_4.grid(row=14,column=1)\n",
    "\n",
    "\n",
    "label_5 = tk.Label(root, text ='Temperature',font=(\"Helvetica\", 16),background=\"#ffffff\")\n",
    "label_5.grid(row=15,column=0)\n",
    "\n",
    "# label_55 = ttk.Label(root, text =temp,font=(\"Helvetica\", 16),background=\"Purple3\")\n",
    "# label_55.grid(row=15,column=1)\n",
    "    \n",
    "Entry_5 = Entry(root)\n",
    "Entry_5.grid(row=15,column=1)\n",
    "\n",
    "\n",
    "    \n",
    "    \n",
    "    \n",
    "    \n",
    "\n",
    "    \n",
    "\n",
    "\n",
    "def fever():\n",
    "    root1 = tk.Tk()\n",
    "    root1.title('Remote patient Drug sugestion')\n",
    "    root1.geometry('850x650')\n",
    "    root1.configure(background=\"gray\")\n",
    "    label1=tk.Label(root1,text=\"Diagnosis Drugs for Fever\",bg=\"pink\",fg=\"black\",font=(\"Arial\",16),height=2,width=25)\n",
    "    label1.place(x=50,y=30)\n",
    "    label1=tk.Label(root1,text=\"Paracetamol\",bg=\"pink\",fg=\"black\",font=(\"Arial\",16),height=2,width=15)\n",
    "    label1.place(x=100,y=100)\n",
    "    label1=tk.Label(root1,text=\"acetaminophen\",bg=\"pink\",fg=\"black\",font=(\"Arial\",16),height=2,width=15)\n",
    "    label1.place(x=100,y=200)\n",
    "    label1=tk.Label(root1,text=\"Tylenol\",bg=\"pink\",fg=\"black\",font=(\"Arial\",16),height=2,width=15)\n",
    "    label1.place(x=100,y=300)\n",
    "    label1=tk.Label(root1,text=\"aspirin\",bg=\"pink\",fg=\"black\",font=(\"Arial\",16),height=2,width=15)\n",
    "    label1.place(x=100,y=400)\n",
    "    label1=tk.Label(root1,text=\"Acephen\",bg=\"pink\",fg=\"black\",font=(\"Arial\",16),height=2,width=15)\n",
    "    label1.place(x=100,y=500)\n",
    "    label1=tk.Label(root1,text=\"Ecpirin\",bg=\"pink\",fg=\"black\",font=(\"Arial\",16),height=2,width=15)\n",
    "    label1.place(x=100,y=600)\n",
    "    \n",
    "    \n",
    "    \n",
    "def chest_pain():\n",
    "    root2 = tk.Tk()\n",
    "    root2.title('Remote patient Drug sugestion')\n",
    "    root2.geometry('850x650')\n",
    "    root2.configure(background=\"gray\")\n",
    "    label1=tk.Label(root2,text=\"Diagnosis Drugs for chest_pain\",bg=\"pink\",fg=\"black\",font=(\"Arial\",16),height=2,width=25)\n",
    "    label1.place(x=50,y=30)\n",
    "    label1=tk.Label(root2,text=\"Amlodipine\",bg=\"pink\",fg=\"black\",font=(\"Arial\",16),height=2,width=15)\n",
    "    label1.place(x=100,y=100)\n",
    "    label1=tk.Label(root2,text=\"Nadroparin\",bg=\"pink\",fg=\"black\",font=(\"Arial\",16),height=2,width=15)\n",
    "    label1.place(x=100,y=200)\n",
    "    label1=tk.Label(root2,text=\"Isosorbide\",bg=\"pink\",fg=\"black\",font=(\"Arial\",16),height=2,width=15)\n",
    "    label1.place(x=100,y=300)\n",
    "    label1=tk.Label(root2,text=\"Nifedipine\",bg=\"pink\",fg=\"black\",font=(\"Arial\",16),height=2,width=15)\n",
    "    label1.place(x=100,y=400)\n",
    "    label1=tk.Label(root2,text=\"Atenolol\",bg=\"pink\",fg=\"black\",font=(\"Arial\",16),height=2,width=15)\n",
    "    label1.place(x=100,y=500)\n",
    "    label1=tk.Label(root2,text=\"Diltiazem\",bg=\"pink\",fg=\"black\",font=(\"Arial\",16),height=2,width=15)\n",
    "    label1.place(x=100,y=600)\n",
    "    \n",
    "def viral_fever():\n",
    "    root3 = tk.Tk()\n",
    "    root3.title('Remote patient Drug sugestion')\n",
    "    root3.geometry('850x650')\n",
    "    root3.configure(background=\"gray\")\n",
    "    label1=tk.Label(root3,text=\"Diagnosis Drugs for viral_fever\",bg=\"pink\",fg=\"black\",font=(\"Arial\",16),height=2,width=25)\n",
    "    label1.place(x=50,y=30)\n",
    "    label1=tk.Label(root3,text=\"Tylenol\",bg=\"pink\",fg=\"black\",font=(\"Arial\",16),height=2,width=15)\n",
    "    label1.place(x=100,y=100)\n",
    "    label1=tk.Label(root3,text=\"acetaminophen\",bg=\"pink\",fg=\"black\",font=(\"Arial\",16),height=2,width=15)\n",
    "    label1.place(x=100,y=200)\n",
    "    label1=tk.Label(root3,text=\"ibuprofen\",bg=\"pink\",fg=\"black\",font=(\"Arial\",16),height=2,width=15)\n",
    "    label1.place(x=100,y=300)\n",
    "    label1=tk.Label(root3,text=\"paracetamol\",bg=\"pink\",fg=\"black\",font=(\"Arial\",16),height=2,width=15)\n",
    "    label1.place(x=100,y=400)\n",
    "    label1=tk.Label(root3,text=\"Advil\",bg=\"pink\",fg=\"black\",font=(\"Arial\",16),height=2,width=15)\n",
    "    label1.place(x=100,y=500)\n",
    "    label1=tk.Label(root3,text=\" Motrin IB\",bg=\"pink\",fg=\"black\",font=(\"Arial\",16),height=2,width=15)\n",
    "    label1.place(x=100,y=600)\n",
    "    \n",
    "\n",
    "\n",
    "def predict():\n",
    "    bp =  Entry_1.get()\n",
    "    oxy =  Entry_2.get()\n",
    "    hb =  Entry_3.get()\n",
    "    ecg =  Entry_4.get()\n",
    "    temp =  Entry_5.get()\n",
    "       \n",
    "    out = rf.predict([[float(bp),\n",
    "       float(oxy),\n",
    "       float(hb),\n",
    "       float(ecg),\n",
    "       float(temp)]])     ##float(area)\n",
    "    \n",
    "    output.delete(0,END)\n",
    "    output.insert(0,out[0])\n",
    "    \n",
    "    print(out)\n",
    "    if out[0] == 1 :\n",
    "        output.delete(0,END)\n",
    "        output.insert(0,'Normal')\n",
    "        \n",
    "    elif out[0] == 2: \n",
    "        output.delete(0,END)\n",
    "        output.insert(0,'Fever')\n",
    "        b3=tk.Button(root,text=\"fever\",bg=\"pink\",fg=\"black\",font=(\"Arial\",16),width=10,command=fever)\n",
    "        b3.place(x=150,y=400)\n",
    "        \n",
    "    elif out[0] == 3:\n",
    "        output.delete(0,END)\n",
    "        output.insert(0,'Chest pain')\n",
    "        b3=tk.Button(root,text=\"chest_pain\",bg=\"pink\",fg=\"black\",font=(\"Arial\",16),width=10,command=chest_pain)\n",
    "        b3.place(x=150,y=400)\n",
    "        \n",
    "    elif out[0] == 4:\n",
    "        output.delete(0,END)\n",
    "        output.insert(0,'Viral fever')\n",
    "        b3=tk.Button(root,text=\"viral_fever\",bg=\"pink\",fg=\"black\",font=(\"Arial\",16),width=10,command=viral_fever)\n",
    "        b3.place(x=150,y=400)\n",
    "        \n",
    "\n",
    "    lbp=int(float(bp))\n",
    "    print(lbp)\n",
    "    if (0 < lbp <90):\n",
    "        label_lbp = tk.Label(root, text ='Low Blood pressure',font=(\"Helvetica\", 16),background=\"#ffffff\")\n",
    "        label_lbp.grid(row=22,column=1)\n",
    "    elif (180 < lbp <230):\n",
    "        label_hbp = tk.Label(root, text ='High Blood Pressure',font=(\"Helvetica\", 16),background=\"#ffffff\")\n",
    "        label_hbp.grid(row=22,column=1)\n",
    "    elif (91 < lbp <179):\n",
    "        label_hbp = tk.Label(root, text ='Normal  Blood Pressure',font=(\"Helvetica\", 16),background=\"#ffffff\")\n",
    "        label_hbp.grid(row=22,column=1)\n",
    "        \n",
    "        \n",
    "    if out[0] == 4 :\n",
    "        label_co = tk.Label(root, text ='Chance of covid',font=(\"Helvetica\", 16),background=\"#ffffff\")\n",
    "        label_co.grid(row=23,column=1)\n",
    "#     if out[0] == 2:\n",
    "#         b2 = Button(root, text = 'Diagnosis',font=(\"Helvetica\", 16),background=\"#5e6166\",command=fever)\n",
    "#         b2.grid(row=25,column=0)\n",
    "#     if out[0] == 3:\n",
    "#         b2 = Button(root, text = 'Diagnosis',font=(\"Helvetica\", 16),background=\"#5e6166\",command=chest_pain)\n",
    "#         b2.grid(row=25,column=0)\n",
    "#     if out[0] == 4:\n",
    "#         b2 = Button(root, text = 'Diagnosis',font=(\"Helvetica\", 16),background=\"#5e6166\",command=viral_fever)\n",
    "#         b2.grid(row=25,column=0)\n",
    "        \n",
    "  \n",
    "#         # Your Account Sid and Auth Token from twilio.com / console\n",
    "#         account_sid = 'AC55e8e4597d26f745e73359f5ecaf768d'\n",
    "#         auth_token = '7ed023015709c75641e97c39e69f626d'\n",
    "\n",
    "#         client = Client(account_sid, auth_token)\n",
    "\n",
    "#         ''' Change the value of 'from' with the number \n",
    "#         received from Twilio and the value of 'to'\n",
    "#         with the number in which you want to send message.'''\n",
    "#         message = client.messages.create(\n",
    "#                                       from_='+13254201666',\n",
    "#                                       body ='body',\n",
    "#                                       to ='+15558675310'\n",
    "#                                   )\n",
    "\n",
    "#         print(message.sid)\n",
    "        \n",
    "    \n",
    "    \n",
    "    \n",
    "# bp =  Entry_1.get()\n",
    "# oxy =  Entry_2.get()\n",
    "# hb =  Entry_3.get()\n",
    "# ecg =  Entry_4.get()\n",
    "# temp =  Entry_5.get()\n",
    "#     b2 = Button(root, text = 'Diagnosis',font=(\"Helvetica\", 16),background=\"#ffffff\",command=diagnosis)\n",
    "#     b2.grid(row=25,column=0)\n",
    "\n",
    "\n",
    "b1 = Button(root, text = 'predict',font=(\"Helvetica\", 16),background=\"#cfb6fc\",command = predict)\n",
    "b1.grid(row=19,column=0)\n",
    "    \n",
    "\n",
    "output = Entry(root)\n",
    "output.grid(row=19,column=1)\n",
    "    \n",
    "root.mainloop()\n"
   ]
  },
  {
   "cell_type": "code",
   "execution_count": null,
   "id": "33007bad",
   "metadata": {},
   "outputs": [],
   "source": [
    "type(temp)"
   ]
  },
  {
   "cell_type": "code",
   "execution_count": null,
   "id": "ec0ad657",
   "metadata": {},
   "outputs": [],
   "source": [
    "# Input = (124,98,62,218,98)  normal"
   ]
  },
  {
   "cell_type": "code",
   "execution_count": null,
   "id": "d7a5fbcd",
   "metadata": {},
   "outputs": [],
   "source": [
    "# 130\t93\t68\t453\t100\t   2  fever\n",
    "# 141\t86\t78\t603\t101\t   3  chest pain\n",
    "#  170\t60\t86\t846\t108    4 viral fever\n"
   ]
  }
 ],
 "metadata": {
  "kernelspec": {
   "display_name": "Python 3 (ipykernel)",
   "language": "python",
   "name": "python3"
  },
  "language_info": {
   "codemirror_mode": {
    "name": "ipython",
    "version": 3
   },
   "file_extension": ".py",
   "mimetype": "text/x-python",
   "name": "python",
   "nbconvert_exporter": "python",
   "pygments_lexer": "ipython3",
   "version": "3.8.13"
  }
 },
 "nbformat": 4,
 "nbformat_minor": 5
}
